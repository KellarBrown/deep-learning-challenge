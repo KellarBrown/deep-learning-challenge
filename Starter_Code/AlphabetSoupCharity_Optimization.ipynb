{
 "cells": [
  {
   "attachments": {},
   "cell_type": "markdown",
   "metadata": {},
   "source": [
    "## Preprocessing"
   ]
  },
  {
   "cell_type": "code",
   "execution_count": 1,
   "metadata": {},
   "outputs": [
    {
     "data": {
      "text/html": [
       "<div>\n",
       "<style scoped>\n",
       "    .dataframe tbody tr th:only-of-type {\n",
       "        vertical-align: middle;\n",
       "    }\n",
       "\n",
       "    .dataframe tbody tr th {\n",
       "        vertical-align: top;\n",
       "    }\n",
       "\n",
       "    .dataframe thead th {\n",
       "        text-align: right;\n",
       "    }\n",
       "</style>\n",
       "<table border=\"1\" class=\"dataframe\">\n",
       "  <thead>\n",
       "    <tr style=\"text-align: right;\">\n",
       "      <th></th>\n",
       "      <th>EIN</th>\n",
       "      <th>NAME</th>\n",
       "      <th>APPLICATION_TYPE</th>\n",
       "      <th>AFFILIATION</th>\n",
       "      <th>CLASSIFICATION</th>\n",
       "      <th>USE_CASE</th>\n",
       "      <th>ORGANIZATION</th>\n",
       "      <th>STATUS</th>\n",
       "      <th>INCOME_AMT</th>\n",
       "      <th>SPECIAL_CONSIDERATIONS</th>\n",
       "      <th>ASK_AMT</th>\n",
       "      <th>IS_SUCCESSFUL</th>\n",
       "    </tr>\n",
       "  </thead>\n",
       "  <tbody>\n",
       "    <tr>\n",
       "      <th>0</th>\n",
       "      <td>10520599</td>\n",
       "      <td>BLUE KNIGHTS MOTORCYCLE CLUB</td>\n",
       "      <td>T10</td>\n",
       "      <td>Independent</td>\n",
       "      <td>C1000</td>\n",
       "      <td>ProductDev</td>\n",
       "      <td>Association</td>\n",
       "      <td>1</td>\n",
       "      <td>0</td>\n",
       "      <td>N</td>\n",
       "      <td>5000</td>\n",
       "      <td>1</td>\n",
       "    </tr>\n",
       "    <tr>\n",
       "      <th>1</th>\n",
       "      <td>10531628</td>\n",
       "      <td>AMERICAN CHESAPEAKE CLUB CHARITABLE TR</td>\n",
       "      <td>T3</td>\n",
       "      <td>Independent</td>\n",
       "      <td>C2000</td>\n",
       "      <td>Preservation</td>\n",
       "      <td>Co-operative</td>\n",
       "      <td>1</td>\n",
       "      <td>1-9999</td>\n",
       "      <td>N</td>\n",
       "      <td>108590</td>\n",
       "      <td>1</td>\n",
       "    </tr>\n",
       "    <tr>\n",
       "      <th>2</th>\n",
       "      <td>10547893</td>\n",
       "      <td>ST CLOUD PROFESSIONAL FIREFIGHTERS</td>\n",
       "      <td>T5</td>\n",
       "      <td>CompanySponsored</td>\n",
       "      <td>C3000</td>\n",
       "      <td>ProductDev</td>\n",
       "      <td>Association</td>\n",
       "      <td>1</td>\n",
       "      <td>0</td>\n",
       "      <td>N</td>\n",
       "      <td>5000</td>\n",
       "      <td>0</td>\n",
       "    </tr>\n",
       "    <tr>\n",
       "      <th>3</th>\n",
       "      <td>10553066</td>\n",
       "      <td>SOUTHSIDE ATHLETIC ASSOCIATION</td>\n",
       "      <td>T3</td>\n",
       "      <td>CompanySponsored</td>\n",
       "      <td>C2000</td>\n",
       "      <td>Preservation</td>\n",
       "      <td>Trust</td>\n",
       "      <td>1</td>\n",
       "      <td>10000-24999</td>\n",
       "      <td>N</td>\n",
       "      <td>6692</td>\n",
       "      <td>1</td>\n",
       "    </tr>\n",
       "    <tr>\n",
       "      <th>4</th>\n",
       "      <td>10556103</td>\n",
       "      <td>GENETIC RESEARCH INSTITUTE OF THE DESERT</td>\n",
       "      <td>T3</td>\n",
       "      <td>Independent</td>\n",
       "      <td>C1000</td>\n",
       "      <td>Heathcare</td>\n",
       "      <td>Trust</td>\n",
       "      <td>1</td>\n",
       "      <td>100000-499999</td>\n",
       "      <td>N</td>\n",
       "      <td>142590</td>\n",
       "      <td>1</td>\n",
       "    </tr>\n",
       "  </tbody>\n",
       "</table>\n",
       "</div>"
      ],
      "text/plain": [
       "        EIN                                      NAME APPLICATION_TYPE  \\\n",
       "0  10520599              BLUE KNIGHTS MOTORCYCLE CLUB              T10   \n",
       "1  10531628    AMERICAN CHESAPEAKE CLUB CHARITABLE TR               T3   \n",
       "2  10547893        ST CLOUD PROFESSIONAL FIREFIGHTERS               T5   \n",
       "3  10553066            SOUTHSIDE ATHLETIC ASSOCIATION               T3   \n",
       "4  10556103  GENETIC RESEARCH INSTITUTE OF THE DESERT               T3   \n",
       "\n",
       "        AFFILIATION CLASSIFICATION      USE_CASE  ORGANIZATION  STATUS  \\\n",
       "0       Independent          C1000    ProductDev   Association       1   \n",
       "1       Independent          C2000  Preservation  Co-operative       1   \n",
       "2  CompanySponsored          C3000    ProductDev   Association       1   \n",
       "3  CompanySponsored          C2000  Preservation         Trust       1   \n",
       "4       Independent          C1000     Heathcare         Trust       1   \n",
       "\n",
       "      INCOME_AMT SPECIAL_CONSIDERATIONS  ASK_AMT  IS_SUCCESSFUL  \n",
       "0              0                      N     5000              1  \n",
       "1         1-9999                      N   108590              1  \n",
       "2              0                      N     5000              0  \n",
       "3    10000-24999                      N     6692              1  \n",
       "4  100000-499999                      N   142590              1  "
      ]
     },
     "execution_count": 1,
     "metadata": {},
     "output_type": "execute_result"
    }
   ],
   "source": [
    "# Import our dependencies\n",
    "from sklearn.model_selection import train_test_split\n",
    "from sklearn.preprocessing import StandardScaler\n",
    "import pandas as pd\n",
    "import tensorflow as tf\n",
    "\n",
    "#  Import and read the charity_data.csv.\n",
    "import pandas as pd \n",
    "application_df = pd.read_csv(\"https://static.bc-edx.com/data/dl-1-2/m21/lms/starter/charity_data.csv\")\n",
    "application_df.head()"
   ]
  },
  {
   "cell_type": "code",
   "execution_count": 2,
   "metadata": {},
   "outputs": [],
   "source": [
    "# Drop the non-beneficial ID columns, 'EIN' and 'NAME'.\n",
    "application_df.drop(columns=['EIN','NAME'],inplace=True)"
   ]
  },
  {
   "cell_type": "code",
   "execution_count": 3,
   "metadata": {},
   "outputs": [
    {
     "data": {
      "text/plain": [
       "APPLICATION_TYPE            17\n",
       "AFFILIATION                  6\n",
       "CLASSIFICATION              71\n",
       "USE_CASE                     5\n",
       "ORGANIZATION                 4\n",
       "STATUS                       2\n",
       "INCOME_AMT                   9\n",
       "SPECIAL_CONSIDERATIONS       2\n",
       "ASK_AMT                   8747\n",
       "IS_SUCCESSFUL                2\n",
       "dtype: int64"
      ]
     },
     "execution_count": 3,
     "metadata": {},
     "output_type": "execute_result"
    }
   ],
   "source": [
    "# Determine the number of unique values in each column.\n",
    "application_df.nunique()"
   ]
  },
  {
   "cell_type": "code",
   "execution_count": 4,
   "metadata": {},
   "outputs": [
    {
     "data": {
      "text/plain": [
       "T3     27037\n",
       "T4      1542\n",
       "T6      1216\n",
       "T5      1173\n",
       "T19     1065\n",
       "T8       737\n",
       "T7       725\n",
       "T10      528\n",
       "T9       156\n",
       "T13       66\n",
       "T12       27\n",
       "T2        16\n",
       "T14        3\n",
       "T25        3\n",
       "T15        2\n",
       "T29        2\n",
       "T17        1\n",
       "Name: APPLICATION_TYPE, dtype: int64"
      ]
     },
     "execution_count": 4,
     "metadata": {},
     "output_type": "execute_result"
    }
   ],
   "source": [
    "# Look at APPLICATION_TYPE value counts for binning\n",
    "application_df['APPLICATION_TYPE'].value_counts()"
   ]
  },
  {
   "cell_type": "code",
   "execution_count": 5,
   "metadata": {},
   "outputs": [
    {
     "data": {
      "text/plain": [
       "T3       27037\n",
       "T4        1542\n",
       "T6        1216\n",
       "T5        1173\n",
       "T19       1065\n",
       "T8         737\n",
       "T7         725\n",
       "T10        528\n",
       "Other      276\n",
       "Name: APPLICATION_TYPE, dtype: int64"
      ]
     },
     "execution_count": 5,
     "metadata": {},
     "output_type": "execute_result"
    }
   ],
   "source": [
    "# Choose a cutoff value and create a list of application types to be replaced\n",
    "# use the variable name `application_types_to_replace`\n",
    "application_types_to_replace = ['T9','T13','T12','T2','T25','T14','T29','T15','T17']\n",
    "\n",
    "# Replace in dataframe\n",
    "for app in application_types_to_replace:\n",
    "    application_df['APPLICATION_TYPE'] = application_df['APPLICATION_TYPE'].replace(app,\"Other\")\n",
    "\n",
    "# Check to make sure binning was successful\n",
    "application_df['APPLICATION_TYPE'].value_counts()"
   ]
  },
  {
   "cell_type": "code",
   "execution_count": 6,
   "metadata": {},
   "outputs": [
    {
     "data": {
      "text/plain": [
       "C1000    17326\n",
       "C2000     6074\n",
       "C1200     4837\n",
       "C3000     1918\n",
       "C2100     1883\n",
       "         ...  \n",
       "C1236        1\n",
       "C8210        1\n",
       "C2190        1\n",
       "C6100        1\n",
       "C2600        1\n",
       "Name: CLASSIFICATION, Length: 71, dtype: int64"
      ]
     },
     "execution_count": 6,
     "metadata": {},
     "output_type": "execute_result"
    }
   ],
   "source": [
    "# Look at CLASSIFICATION value counts for binning\n",
    "application_df['CLASSIFICATION'].value_counts()"
   ]
  },
  {
   "cell_type": "code",
   "execution_count": 15,
   "metadata": {},
   "outputs": [
    {
     "data": {
      "text/plain": [
       "C1000    17326\n",
       "C2000     6074\n",
       "C1200     4837\n",
       "C3000     1918\n",
       "C2100     1883\n",
       "C7000      777\n",
       "C1700      287\n",
       "C4000      194\n",
       "C5000      116\n",
       "C1270      114\n",
       "C2700      104\n",
       "C2800       95\n",
       "C7100       75\n",
       "C1300       58\n",
       "C1280       50\n",
       "C1230       36\n",
       "C1400       34\n",
       "C7200       32\n",
       "C2300       32\n",
       "C1240       30\n",
       "C8000       20\n",
       "C7120       18\n",
       "C1500       16\n",
       "C6000       15\n",
       "C1800       15\n",
       "C1250       14\n",
       "C8200       11\n",
       "C1278       10\n",
       "C1238       10\n",
       "C1237        9\n",
       "C1235        9\n",
       "C7210        7\n",
       "C2400        6\n",
       "C4100        6\n",
       "C1720        6\n",
       "C1600        5\n",
       "C1257        5\n",
       "C2710        3\n",
       "C1260        3\n",
       "C0           3\n",
       "C1246        2\n",
       "C1234        2\n",
       "C3200        2\n",
       "C1267        2\n",
       "C1256        2\n",
       "Name: CLASSIFICATION, dtype: int64"
      ]
     },
     "execution_count": 15,
     "metadata": {},
     "output_type": "execute_result"
    }
   ],
   "source": [
    "# You may find it helpful to look at CLASSIFICATION value counts >1\n",
    "application_df['CLASSIFICATION'].value_counts()[application_df['CLASSIFICATION'].value_counts() > 1]"
   ]
  },
  {
   "cell_type": "code",
   "execution_count": 16,
   "metadata": {},
   "outputs": [
    {
     "data": {
      "text/plain": [
       "C1000    17326\n",
       "C2000     6074\n",
       "C1200     4837\n",
       "C3000     1918\n",
       "C2100     1883\n",
       "Other     1484\n",
       "C7000      777\n",
       "Name: CLASSIFICATION, dtype: int64"
      ]
     },
     "execution_count": 16,
     "metadata": {},
     "output_type": "execute_result"
    }
   ],
   "source": [
    "# Choose a cutoff value and create a list of classifications to be replaced\n",
    "# use the variable name `classifications_to_replace`\n",
    "classifications_to_replace = application_df['CLASSIFICATION'].value_counts()[application_df['CLASSIFICATION'].value_counts() < 777].index\n",
    "\n",
    "# Replace in dataframe\n",
    "for cls in classifications_to_replace:\n",
    "    application_df['CLASSIFICATION'] = application_df['CLASSIFICATION'].replace(cls,\"Other\")\n",
    "    \n",
    "# Check to make sure binning was successful\n",
    "application_df['CLASSIFICATION'].value_counts()"
   ]
  },
  {
   "cell_type": "code",
   "execution_count": 17,
   "metadata": {},
   "outputs": [],
   "source": [
    "# Convert categorical data to numeric with `pd.get_dummies`\n",
    "application_df_dummies = pd.get_dummies(application_df)"
   ]
  },
  {
   "cell_type": "code",
   "execution_count": 18,
   "metadata": {},
   "outputs": [],
   "source": [
    "# Split our preprocessed data into our features and target arrays\n",
    "X = application_df_dummies.drop(columns='IS_SUCCESSFUL')\n",
    "y = application_df_dummies['IS_SUCCESSFUL']\n",
    "# Split the preprocessed data into a training and testing dataset\n",
    "X_train, X_test, y_train, y_test = train_test_split(X, y, random_state = 1)"
   ]
  },
  {
   "cell_type": "code",
   "execution_count": 19,
   "metadata": {},
   "outputs": [],
   "source": [
    "# Create a StandardScaler instances\n",
    "scaler = StandardScaler()\n",
    "\n",
    "# Fit the StandardScaler\n",
    "X_scaler = scaler.fit(X_train)\n",
    "\n",
    "# Scale the data\n",
    "X_train_scaled = X_scaler.transform(X_train)\n",
    "X_test_scaled = X_scaler.transform(X_test)"
   ]
  },
  {
   "attachments": {},
   "cell_type": "markdown",
   "metadata": {},
   "source": [
    "## Compile, Train and Evaluate the Model"
   ]
  },
  {
   "cell_type": "code",
   "execution_count": 20,
   "metadata": {},
   "outputs": [
    {
     "name": "stdout",
     "output_type": "stream",
     "text": [
      "Model: \"sequential\"\n",
      "_________________________________________________________________\n",
      " Layer (type)                Output Shape              Param #   \n",
      "=================================================================\n",
      " dense (Dense)               (None, 80)                3600      \n",
      "                                                                 \n",
      " dense_1 (Dense)             (None, 50)                4050      \n",
      "                                                                 \n",
      " dense_2 (Dense)             (None, 1)                 51        \n",
      "                                                                 \n",
      "=================================================================\n",
      "Total params: 7,701\n",
      "Trainable params: 7,701\n",
      "Non-trainable params: 0\n",
      "_________________________________________________________________\n"
     ]
    }
   ],
   "source": [
    "# Define the model - deep neural net, i.e., the number of input features and hidden nodes for each layer.\n",
    "n_input_features = X_train.shape[1]\n",
    "first_layer_units = 80\n",
    "second_layer_units = 50\n",
    "nn = tf.keras.models.Sequential()\n",
    "\n",
    "# First hidden layer\n",
    "nn.add(tf.keras.layers.Dense(units=first_layer_units, activation='relu', input_dim=n_input_features))\n",
    "\n",
    "# Second hidden layer\n",
    "nn.add(tf.keras.layers.Dense(units=second_layer_units, activation='relu'))\n",
    "\n",
    "# Output layer\n",
    "nn.add(tf.keras.layers.Dense(units=1, activation='sigmoid'))\n",
    "\n",
    "# Check the structure of the model\n",
    "nn.summary()"
   ]
  },
  {
   "cell_type": "code",
   "execution_count": 21,
   "metadata": {},
   "outputs": [],
   "source": [
    "# Compile the model\n",
    "nn.compile(loss='binary_crossentropy', optimizer='adam', metrics=['accuracy'])"
   ]
  },
  {
   "cell_type": "code",
   "execution_count": 22,
   "metadata": {},
   "outputs": [
    {
     "name": "stdout",
     "output_type": "stream",
     "text": [
      "WARNING:tensorflow:`period` argument is deprecated. Please use `save_freq` to specify the frequency in number of batches seen.\n"
     ]
    }
   ],
   "source": [
    "callbacks = tf.keras.callbacks.ModelCheckpoint('checkpoints/weights.{epoch}.hdf5', monitor='loss', verbose=1,\n",
    "    save_best_only=True, mode='auto', period=1)"
   ]
  },
  {
   "cell_type": "code",
   "execution_count": 27,
   "metadata": {},
   "outputs": [
    {
     "name": "stdout",
     "output_type": "stream",
     "text": [
      "Epoch 1/50\n",
      "779/804 [============================>.] - ETA: 0s - loss: 0.5320 - accuracy: 0.7399\n",
      "Epoch 1: loss did not improve from 0.53279\n",
      "804/804 [==============================] - 1s 1ms/step - loss: 0.5331 - accuracy: 0.7393\n",
      "Epoch 2/50\n",
      "777/804 [===========================>..] - ETA: 0s - loss: 0.5328 - accuracy: 0.7403\n",
      "Epoch 2: loss improved from 0.53279 to 0.53273, saving model to checkpoints\\weights.2.hdf5\n",
      "804/804 [==============================] - 1s 1ms/step - loss: 0.5327 - accuracy: 0.7404\n",
      "Epoch 3/50\n",
      "796/804 [============================>.] - ETA: 0s - loss: 0.5334 - accuracy: 0.7399\n",
      "Epoch 3: loss did not improve from 0.53273\n",
      "804/804 [==============================] - 1s 1ms/step - loss: 0.5330 - accuracy: 0.7404\n",
      "Epoch 4/50\n",
      "804/804 [==============================] - ETA: 0s - loss: 0.5327 - accuracy: 0.7402\n",
      "Epoch 4: loss improved from 0.53273 to 0.53269, saving model to checkpoints\\weights.4.hdf5\n",
      "804/804 [==============================] - 1s 1ms/step - loss: 0.5327 - accuracy: 0.7402\n",
      "Epoch 5/50\n",
      "803/804 [============================>.] - ETA: 0s - loss: 0.5328 - accuracy: 0.7398\n",
      "Epoch 5: loss did not improve from 0.53269\n",
      "804/804 [==============================] - 1s 1ms/step - loss: 0.5329 - accuracy: 0.7397\n",
      "Epoch 6/50\n",
      "795/804 [============================>.] - ETA: 0s - loss: 0.5320 - accuracy: 0.7409\n",
      "Epoch 6: loss did not improve from 0.53269\n",
      "804/804 [==============================] - 1s 1ms/step - loss: 0.5327 - accuracy: 0.7405\n",
      "Epoch 7/50\n",
      "804/804 [==============================] - ETA: 0s - loss: 0.5331 - accuracy: 0.7400\n",
      "Epoch 7: loss did not improve from 0.53269\n",
      "804/804 [==============================] - 1s 2ms/step - loss: 0.5331 - accuracy: 0.7400\n",
      "Epoch 8/50\n",
      "803/804 [============================>.] - ETA: 0s - loss: 0.5325 - accuracy: 0.7406\n",
      "Epoch 8: loss improved from 0.53269 to 0.53263, saving model to checkpoints\\weights.8.hdf5\n",
      "804/804 [==============================] - 1s 1ms/step - loss: 0.5326 - accuracy: 0.7405\n",
      "Epoch 9/50\n",
      "786/804 [============================>.] - ETA: 0s - loss: 0.5333 - accuracy: 0.7398\n",
      "Epoch 9: loss did not improve from 0.53263\n",
      "804/804 [==============================] - 1s 1ms/step - loss: 0.5329 - accuracy: 0.7402\n",
      "Epoch 10/50\n",
      "763/804 [===========================>..] - ETA: 0s - loss: 0.5316 - accuracy: 0.7414\n",
      "Epoch 10: loss did not improve from 0.53263\n",
      "804/804 [==============================] - 1s 1ms/step - loss: 0.5327 - accuracy: 0.7409\n",
      "Epoch 11/50\n",
      "765/804 [===========================>..] - ETA: 0s - loss: 0.5320 - accuracy: 0.7402\n",
      "Epoch 11: loss did not improve from 0.53263\n",
      "804/804 [==============================] - 1s 1ms/step - loss: 0.5331 - accuracy: 0.7400\n",
      "Epoch 12/50\n",
      "788/804 [============================>.] - ETA: 0s - loss: 0.5329 - accuracy: 0.7404\n",
      "Epoch 12: loss improved from 0.53263 to 0.53254, saving model to checkpoints\\weights.12.hdf5\n",
      "804/804 [==============================] - 1s 1ms/step - loss: 0.5325 - accuracy: 0.7407\n",
      "Epoch 13/50\n",
      "791/804 [============================>.] - ETA: 0s - loss: 0.5325 - accuracy: 0.7406\n",
      "Epoch 13: loss improved from 0.53254 to 0.53229, saving model to checkpoints\\weights.13.hdf5\n",
      "804/804 [==============================] - 1s 1ms/step - loss: 0.5323 - accuracy: 0.7409\n",
      "Epoch 14/50\n",
      "775/804 [===========================>..] - ETA: 0s - loss: 0.5318 - accuracy: 0.7410\n",
      "Epoch 14: loss did not improve from 0.53229\n",
      "804/804 [==============================] - 1s 1ms/step - loss: 0.5324 - accuracy: 0.7404\n",
      "Epoch 15/50\n",
      "773/804 [===========================>..] - ETA: 0s - loss: 0.5314 - accuracy: 0.7407\n",
      "Epoch 15: loss did not improve from 0.53229\n",
      "804/804 [==============================] - 1s 1ms/step - loss: 0.5326 - accuracy: 0.7404\n",
      "Epoch 16/50\n",
      "784/804 [============================>.] - ETA: 0s - loss: 0.5321 - accuracy: 0.7404\n",
      "Epoch 16: loss did not improve from 0.53229\n",
      "804/804 [==============================] - 1s 1ms/step - loss: 0.5324 - accuracy: 0.7404\n",
      "Epoch 17/50\n",
      "768/804 [===========================>..] - ETA: 0s - loss: 0.5317 - accuracy: 0.7421\n",
      "Epoch 17: loss did not improve from 0.53229\n",
      "804/804 [==============================] - 1s 1ms/step - loss: 0.5324 - accuracy: 0.7413\n",
      "Epoch 18/50\n",
      "792/804 [============================>.] - ETA: 0s - loss: 0.5325 - accuracy: 0.7392\n",
      "Epoch 18: loss did not improve from 0.53229\n",
      "804/804 [==============================] - 1s 1ms/step - loss: 0.5325 - accuracy: 0.7395\n",
      "Epoch 19/50\n",
      "762/804 [===========================>..] - ETA: 0s - loss: 0.5334 - accuracy: 0.7396\n",
      "Epoch 19: loss did not improve from 0.53229\n",
      "804/804 [==============================] - 1s 1ms/step - loss: 0.5323 - accuracy: 0.7404\n",
      "Epoch 20/50\n",
      "761/804 [===========================>..] - ETA: 0s - loss: 0.5322 - accuracy: 0.7408\n",
      "Epoch 20: loss did not improve from 0.53229\n",
      "804/804 [==============================] - 1s 1ms/step - loss: 0.5326 - accuracy: 0.7403\n",
      "Epoch 21/50\n",
      "802/804 [============================>.] - ETA: 0s - loss: 0.5322 - accuracy: 0.7399\n",
      "Epoch 21: loss improved from 0.53229 to 0.53201, saving model to checkpoints\\weights.21.hdf5\n",
      "804/804 [==============================] - 1s 1ms/step - loss: 0.5320 - accuracy: 0.7401\n",
      "Epoch 22/50\n",
      "796/804 [============================>.] - ETA: 0s - loss: 0.5325 - accuracy: 0.7407\n",
      "Epoch 22: loss did not improve from 0.53201\n",
      "804/804 [==============================] - 1s 1ms/step - loss: 0.5327 - accuracy: 0.7405\n",
      "Epoch 23/50\n",
      "790/804 [============================>.] - ETA: 0s - loss: 0.5319 - accuracy: 0.7409\n",
      "Epoch 23: loss did not improve from 0.53201\n",
      "804/804 [==============================] - 1s 1ms/step - loss: 0.5322 - accuracy: 0.7404\n",
      "Epoch 24/50\n",
      "794/804 [============================>.] - ETA: 0s - loss: 0.5321 - accuracy: 0.7396\n",
      "Epoch 24: loss did not improve from 0.53201\n",
      "804/804 [==============================] - 1s 1ms/step - loss: 0.5322 - accuracy: 0.7397\n",
      "Epoch 25/50\n",
      "763/804 [===========================>..] - ETA: 0s - loss: 0.5324 - accuracy: 0.7406\n",
      "Epoch 25: loss did not improve from 0.53201\n",
      "804/804 [==============================] - 1s 1ms/step - loss: 0.5324 - accuracy: 0.7403\n",
      "Epoch 26/50\n",
      "796/804 [============================>.] - ETA: 0s - loss: 0.5326 - accuracy: 0.7394\n",
      "Epoch 26: loss did not improve from 0.53201\n",
      "804/804 [==============================] - 1s 1ms/step - loss: 0.5326 - accuracy: 0.7397\n",
      "Epoch 27/50\n",
      "768/804 [===========================>..] - ETA: 0s - loss: 0.5328 - accuracy: 0.7408\n",
      "Epoch 27: loss did not improve from 0.53201\n",
      "804/804 [==============================] - 1s 1ms/step - loss: 0.5327 - accuracy: 0.7404\n",
      "Epoch 28/50\n",
      "785/804 [============================>.] - ETA: 0s - loss: 0.5318 - accuracy: 0.7410\n",
      "Epoch 28: loss improved from 0.53201 to 0.53172, saving model to checkpoints\\weights.28.hdf5\n",
      "804/804 [==============================] - 1s 1ms/step - loss: 0.5317 - accuracy: 0.7409\n",
      "Epoch 29/50\n",
      "801/804 [============================>.] - ETA: 0s - loss: 0.5322 - accuracy: 0.7402\n",
      "Epoch 29: loss did not improve from 0.53172\n",
      "804/804 [==============================] - 1s 1ms/step - loss: 0.5323 - accuracy: 0.7402\n",
      "Epoch 30/50\n",
      "800/804 [============================>.] - ETA: 0s - loss: 0.5320 - accuracy: 0.7409\n",
      "Epoch 30: loss did not improve from 0.53172\n",
      "804/804 [==============================] - 1s 1ms/step - loss: 0.5320 - accuracy: 0.7409\n",
      "Epoch 31/50\n",
      "765/804 [===========================>..] - ETA: 0s - loss: 0.5325 - accuracy: 0.7413\n",
      "Epoch 31: loss did not improve from 0.53172\n",
      "804/804 [==============================] - 1s 1ms/step - loss: 0.5321 - accuracy: 0.7410\n",
      "Epoch 32/50\n",
      "770/804 [===========================>..] - ETA: 0s - loss: 0.5313 - accuracy: 0.7405\n",
      "Epoch 32: loss did not improve from 0.53172\n",
      "804/804 [==============================] - 1s 1ms/step - loss: 0.5320 - accuracy: 0.7403\n",
      "Epoch 33/50\n",
      "780/804 [============================>.] - ETA: 0s - loss: 0.5310 - accuracy: 0.7414\n",
      "Epoch 33: loss did not improve from 0.53172\n",
      "804/804 [==============================] - 1s 1ms/step - loss: 0.5317 - accuracy: 0.7409\n",
      "Epoch 34/50\n",
      "768/804 [===========================>..] - ETA: 0s - loss: 0.5320 - accuracy: 0.7407\n",
      "Epoch 34: loss did not improve from 0.53172\n",
      "804/804 [==============================] - 1s 1ms/step - loss: 0.5324 - accuracy: 0.7404\n",
      "Epoch 35/50\n",
      "789/804 [============================>.] - ETA: 0s - loss: 0.5323 - accuracy: 0.7395\n",
      "Epoch 35: loss did not improve from 0.53172\n",
      "804/804 [==============================] - 1s 1ms/step - loss: 0.5321 - accuracy: 0.7400\n",
      "Epoch 36/50\n",
      "791/804 [============================>.] - ETA: 0s - loss: 0.5318 - accuracy: 0.7410\n",
      "Epoch 36: loss did not improve from 0.53172\n",
      "804/804 [==============================] - 1s 1ms/step - loss: 0.5318 - accuracy: 0.7408\n",
      "Epoch 37/50\n",
      "785/804 [============================>.] - ETA: 0s - loss: 0.5313 - accuracy: 0.7405\n",
      "Epoch 37: loss improved from 0.53172 to 0.53153, saving model to checkpoints\\weights.37.hdf5\n",
      "804/804 [==============================] - 1s 1ms/step - loss: 0.5315 - accuracy: 0.7406\n",
      "Epoch 38/50\n",
      "792/804 [============================>.] - ETA: 0s - loss: 0.5324 - accuracy: 0.7405\n",
      "Epoch 38: loss did not improve from 0.53153\n",
      "804/804 [==============================] - 1s 1ms/step - loss: 0.5321 - accuracy: 0.7407\n",
      "Epoch 39/50\n",
      "778/804 [============================>.] - ETA: 0s - loss: 0.5319 - accuracy: 0.7408\n",
      "Epoch 39: loss did not improve from 0.53153\n",
      "804/804 [==============================] - 1s 1ms/step - loss: 0.5319 - accuracy: 0.7406\n",
      "Epoch 40/50\n",
      "788/804 [============================>.] - ETA: 0s - loss: 0.5326 - accuracy: 0.7402\n",
      "Epoch 40: loss did not improve from 0.53153\n",
      "804/804 [==============================] - 1s 1ms/step - loss: 0.5320 - accuracy: 0.7408\n",
      "Epoch 41/50\n",
      "767/804 [===========================>..] - ETA: 0s - loss: 0.5322 - accuracy: 0.7409\n",
      "Epoch 41: loss did not improve from 0.53153\n",
      "804/804 [==============================] - 1s 1ms/step - loss: 0.5318 - accuracy: 0.7414\n",
      "Epoch 42/50\n",
      "789/804 [============================>.] - ETA: 0s - loss: 0.5318 - accuracy: 0.7406\n",
      "Epoch 42: loss did not improve from 0.53153\n",
      "804/804 [==============================] - 1s 1ms/step - loss: 0.5317 - accuracy: 0.7409\n",
      "Epoch 43/50\n",
      "763/804 [===========================>..] - ETA: 0s - loss: 0.5318 - accuracy: 0.7399\n",
      "Epoch 43: loss did not improve from 0.53153\n",
      "804/804 [==============================] - 1s 1ms/step - loss: 0.5317 - accuracy: 0.7406\n",
      "Epoch 44/50\n",
      "782/804 [============================>.] - ETA: 0s - loss: 0.5313 - accuracy: 0.7408\n",
      "Epoch 44: loss improved from 0.53153 to 0.53150, saving model to checkpoints\\weights.44.hdf5\n",
      "804/804 [==============================] - 1s 1ms/step - loss: 0.5315 - accuracy: 0.7404\n",
      "Epoch 45/50\n",
      "781/804 [============================>.] - ETA: 0s - loss: 0.5319 - accuracy: 0.7401\n",
      "Epoch 45: loss did not improve from 0.53150\n",
      "804/804 [==============================] - 1s 1ms/step - loss: 0.5319 - accuracy: 0.7402\n",
      "Epoch 46/50\n",
      "796/804 [============================>.] - ETA: 0s - loss: 0.5315 - accuracy: 0.7410\n",
      "Epoch 46: loss did not improve from 0.53150\n",
      "804/804 [==============================] - 1s 1ms/step - loss: 0.5319 - accuracy: 0.7408\n",
      "Epoch 47/50\n",
      "762/804 [===========================>..] - ETA: 0s - loss: 0.5320 - accuracy: 0.7406\n",
      "Epoch 47: loss did not improve from 0.53150\n",
      "804/804 [==============================] - 1s 1ms/step - loss: 0.5320 - accuracy: 0.7407\n",
      "Epoch 48/50\n",
      "768/804 [===========================>..] - ETA: 0s - loss: 0.5314 - accuracy: 0.7398\n",
      "Epoch 48: loss improved from 0.53150 to 0.53105, saving model to checkpoints\\weights.48.hdf5\n",
      "804/804 [==============================] - 1s 1ms/step - loss: 0.5310 - accuracy: 0.7407\n",
      "Epoch 49/50\n",
      "781/804 [============================>.] - ETA: 0s - loss: 0.5319 - accuracy: 0.7406\n",
      "Epoch 49: loss did not improve from 0.53105\n",
      "804/804 [==============================] - 1s 1ms/step - loss: 0.5318 - accuracy: 0.7408\n",
      "Epoch 50/50\n",
      "761/804 [===========================>..] - ETA: 0s - loss: 0.5326 - accuracy: 0.7393\n",
      "Epoch 50: loss did not improve from 0.53105\n",
      "804/804 [==============================] - 1s 1ms/step - loss: 0.5316 - accuracy: 0.7407\n"
     ]
    },
    {
     "data": {
      "text/plain": [
       "<keras.callbacks.History at 0x213dc193988>"
      ]
     },
     "execution_count": 27,
     "metadata": {},
     "output_type": "execute_result"
    }
   ],
   "source": [
    "# Train the model\n",
    "nn.fit(X_train_scaled, y_train, epochs=50,callbacks=[callbacks])"
   ]
  },
  {
   "cell_type": "code",
   "execution_count": 28,
   "metadata": {},
   "outputs": [
    {
     "name": "stdout",
     "output_type": "stream",
     "text": [
      "268/268 - 0s - loss: 0.5687 - accuracy: 0.7277 - 232ms/epoch - 866us/step\n",
      "Loss: 0.5686590671539307, Accuracy: 0.7276967763900757\n"
     ]
    }
   ],
   "source": [
    "# Evaluate the model using the test data\n",
    "model_loss, model_accuracy = nn.evaluate(X_test_scaled,y_test,verbose=2)\n",
    "print(f\"Loss: {model_loss}, Accuracy: {model_accuracy}\")"
   ]
  },
  {
   "cell_type": "code",
   "execution_count": 29,
   "metadata": {},
   "outputs": [],
   "source": [
    "# Export our model to HDF5 file\n",
    "nn.save('../h5_files/AlphabetSoupCharity.h5')"
   ]
  }
 ],
 "metadata": {
  "kernelspec": {
   "display_name": "Python 3",
   "language": "python",
   "name": "python3"
  },
  "language_info": {
   "codemirror_mode": {
    "name": "ipython",
    "version": 3
   },
   "file_extension": ".py",
   "mimetype": "text/x-python",
   "name": "python",
   "nbconvert_exporter": "python",
   "pygments_lexer": "ipython3",
   "version": "3.7.7"
  },
  "vscode": {
   "interpreter": {
    "hash": "31f2aee4e71d21fbe5cf8b01ff0e069b9275f58929596ceb00d14d90e3e16cd6"
   }
  }
 },
 "nbformat": 4,
 "nbformat_minor": 4
}
